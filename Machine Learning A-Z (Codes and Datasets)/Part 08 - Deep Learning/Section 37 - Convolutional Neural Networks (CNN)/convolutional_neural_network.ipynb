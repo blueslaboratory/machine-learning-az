{
  "cells": [
    {
      "cell_type": "markdown",
      "metadata": {
        "colab_type": "text",
        "id": "3DR-eO17geWu"
      },
      "source": [
        "# Convolutional Neural Network"
      ]
    },
    {
      "cell_type": "markdown",
      "metadata": {
        "colab_type": "text",
        "id": "EMefrVPCg-60"
      },
      "source": [
        "### Importing the libraries"
      ]
    },
    {
      "cell_type": "code",
      "execution_count": 34,
      "metadata": {
        "colab": {},
        "colab_type": "code",
        "id": "sCV30xyVhFbE"
      },
      "outputs": [],
      "source": [
        "# 12/01/2024\n",
        "# IDE: VSC\n",
        "# Section 37: Convolutional Neural Networks (CNN)\n",
        "# Video [355, 360]\n",
        "\n",
        "# pip install tensorflow==2.14.0\n",
        "\n",
        "import tensorflow as tf\n",
        "from keras.preprocessing.image import ImageDataGenerator"
      ]
    },
    {
      "cell_type": "code",
      "execution_count": 35,
      "metadata": {
        "colab": {},
        "colab_type": "code",
        "id": "FIleuCAjoFD8"
      },
      "outputs": [
        {
          "data": {
            "text/plain": [
              "'2.14.0'"
            ]
          },
          "execution_count": 35,
          "metadata": {},
          "output_type": "execute_result"
        }
      ],
      "source": [
        "tf.__version__"
      ]
    },
    {
      "cell_type": "markdown",
      "metadata": {
        "colab_type": "text",
        "id": "oxQxCBWyoGPE"
      },
      "source": [
        "## Part 1 - Data Preprocessing"
      ]
    },
    {
      "cell_type": "markdown",
      "metadata": {
        "colab_type": "text",
        "id": "MvE-heJNo3GG"
      },
      "source": [
        "### Preprocessing the Training set"
      ]
    },
    {
      "cell_type": "code",
      "execution_count": 36,
      "metadata": {},
      "outputs": [
        {
          "name": "stdout",
          "output_type": "stream",
          "text": [
            "Found 8000 images belonging to 2 classes.\n"
          ]
        }
      ],
      "source": [
        "# we will apply some image transformations on the training set: avoid overfitting\n",
        "# transformations on the images: zoom, rotations, shifting pixels\n",
        "\n",
        "# https://keras.io/2.15/api/data_loading\n",
        "# https://keras.io/2.15/api/data_loading/image/\n",
        "\n",
        "train_datagen = ImageDataGenerator(\n",
        "\n",
        "    # feature scaling to each pixel by dividing their value by 255\n",
        "    # (feature scaling is absolutely compulsory for NNs)\n",
        "    rescale=1./255,\n",
        "\n",
        "    # preventing overfitting:\n",
        "    shear_range=0.2,\n",
        "    zoom_range=0.2,\n",
        "    horizontal_flip=True\n",
        ")\n",
        "\n",
        "training_set = train_datagen.flow_from_directory(\n",
        "    \n",
        "    # training_set path\n",
        "    'dataset/training_set/',\n",
        "\n",
        "    # final size of the image\n",
        "    target_size=(64, 64),\n",
        "    # nr of images in each batch\n",
        "    batch_size=32,\n",
        "    # binary: cat or dog\n",
        "    class_mode='binary'\n",
        ")"
      ]
    },
    {
      "cell_type": "markdown",
      "metadata": {
        "colab_type": "text",
        "id": "mrCMmGw9pHys"
      },
      "source": [
        "### Preprocessing the Test set"
      ]
    },
    {
      "cell_type": "code",
      "execution_count": 37,
      "metadata": {},
      "outputs": [
        {
          "name": "stdout",
          "output_type": "stream",
          "text": [
            "Found 2000 images belonging to 2 classes.\n"
          ]
        }
      ],
      "source": [
        "# Remember when we were applying feature scaling to our training set and test set?\n",
        "# We used the fit_transform method on the training set,\n",
        "# but only the transform method on the test set\n",
        "# In order to avoid information leakage\n",
        "# Here it's exactly the same, we have to keep the images of the test set intact\n",
        "\n",
        "test_datagen = ImageDataGenerator(\n",
        "    # feature scaling to each pixel by dividing their value by 255\n",
        "    # (feature scaling is absolutely compulsory for NNs)\n",
        "    rescale=1./255\n",
        ")\n",
        "\n",
        "test_set = test_datagen.flow_from_directory(\n",
        "    \n",
        "    # test_set path\n",
        "    'dataset/test_set/',\n",
        "\n",
        "    # final size of the image\n",
        "    target_size=(64, 64),\n",
        "    # nr of images in each batch\n",
        "    batch_size=32,\n",
        "    # binary: cat or dog\n",
        "    class_mode='binary'\n",
        ")"
      ]
    },
    {
      "cell_type": "markdown",
      "metadata": {
        "colab_type": "text",
        "id": "af8O4l90gk7B"
      },
      "source": [
        "## Part 2 - Building the CNN"
      ]
    },
    {
      "cell_type": "markdown",
      "metadata": {
        "colab_type": "text",
        "id": "ces1gXY2lmoX"
      },
      "source": [
        "### Initialising the CNN"
      ]
    },
    {
      "cell_type": "code",
      "execution_count": 38,
      "metadata": {},
      "outputs": [],
      "source": [
        "cnn = tf.keras.models.Sequential()"
      ]
    },
    {
      "cell_type": "markdown",
      "metadata": {
        "colab_type": "text",
        "id": "u5YJj_XMl5LF"
      },
      "source": [
        "### Step 1 - Convolution"
      ]
    },
    {
      "cell_type": "code",
      "execution_count": 39,
      "metadata": {},
      "outputs": [],
      "source": [
        "# REMEMBER: Input Image (matrix) · Feature Detector (matrix) = Feature Map (matrix)\n",
        "\n",
        "# filters: feature detectors\n",
        "# kernel size: size of the feature detector (nº of rows (square matrix))\n",
        "# activation: activation function ReLU (Rectified Linear Unit)\n",
        "# input shape: only for the 1st layer\n",
        "#   - colored images (64, 64, 3)\n",
        "#   - black and white (64, 64, 1)\n",
        "\n",
        "cnn.add(tf.keras.layers.Conv2D(\n",
        "    filters=32,\n",
        "    kernel_size=3,\n",
        "    activation='relu',\n",
        "    input_shape=[64, 64, 3]\n",
        "))"
      ]
    },
    {
      "cell_type": "markdown",
      "metadata": {
        "colab_type": "text",
        "id": "tf87FpvxmNOJ"
      },
      "source": [
        "### Step 2 - Pooling"
      ]
    },
    {
      "cell_type": "code",
      "execution_count": 40,
      "metadata": {},
      "outputs": [],
      "source": [
        "# REMEMBER: Feature Map (matrix) --> Pooled Feature Map (matrix)\n",
        "\n",
        "# pool_size: size of pooling matrix (you pick the max value out of the pool)\n",
        "# strides: nr of pixels by which the pooling matrix is shifted to the right when we perform the pooling\n",
        "# padding: when your pooling matrix is out of the edge\n",
        "\n",
        "cnn.add(tf.keras.layers.MaxPool2D(\n",
        "    pool_size=2,\n",
        "    strides=2\n",
        "))"
      ]
    },
    {
      "cell_type": "markdown",
      "metadata": {
        "colab_type": "text",
        "id": "xaTOgD8rm4mU"
      },
      "source": [
        "### Adding a second convolutional layer"
      ]
    },
    {
      "cell_type": "code",
      "execution_count": 41,
      "metadata": {},
      "outputs": [],
      "source": [
        "cnn.add(tf.keras.layers.Conv2D(\n",
        "    filters=32,\n",
        "    kernel_size=3,\n",
        "    activation='relu'\n",
        "))\n",
        "\n",
        "cnn.add(tf.keras.layers.MaxPool2D(\n",
        "    pool_size=2,\n",
        "    strides=2\n",
        "))"
      ]
    },
    {
      "cell_type": "markdown",
      "metadata": {
        "colab_type": "text",
        "id": "tmiEuvTunKfk"
      },
      "source": [
        "### Step 3 - Flattening"
      ]
    },
    {
      "cell_type": "code",
      "execution_count": 42,
      "metadata": {},
      "outputs": [],
      "source": [
        "# flattening the results of all the convolutions and poolings into 1D vector\n",
        "# that will become the input of a fully connected ANN\n",
        "\n",
        "cnn.add(tf.keras.layers.Flatten())"
      ]
    },
    {
      "cell_type": "markdown",
      "metadata": {
        "colab_type": "text",
        "id": "dAoSECOm203v"
      },
      "source": [
        "### Step 4 - Full Connection"
      ]
    },
    {
      "cell_type": "code",
      "execution_count": 43,
      "metadata": {},
      "outputs": [],
      "source": [
        "# units=14 --> 14 neurons (Hyperparameter)\n",
        "# activation='relu' --> re_ctifier l_inear u_nit --> rectifier activation function\n",
        "\n",
        "# activation function:\n",
        "# sigmoid: yes or no, 0 or 1\n",
        "# softmax: classification with >2 categories or classes to predict\n",
        "# no activation function: regression, continuous real number\n",
        "\n",
        "# Adding the input layer and the first hidden layer\n",
        "cnn.add(tf.keras.layers.Dense(units=14, activation='relu'))"
      ]
    },
    {
      "cell_type": "markdown",
      "metadata": {
        "colab_type": "text",
        "id": "yTldFvbX28Na"
      },
      "source": [
        "### Step 5 - Output Layer"
      ]
    },
    {
      "cell_type": "code",
      "execution_count": 44,
      "metadata": {},
      "outputs": [],
      "source": [
        "# units=1 --> only 1 output neuron is needed to encode a binary outcome\n",
        "# activation='sigmoid' --> it allows to get a probability prediction\n",
        "# activation='softmax' --> predicting more than a binary outcome\n",
        "\n",
        "cnn.add(tf.keras.layers.Dense(units=1, activation='sigmoid'))"
      ]
    },
    {
      "cell_type": "markdown",
      "metadata": {
        "colab_type": "text",
        "id": "D6XkI90snSDl"
      },
      "source": [
        "## Part 3 - Training the CNN"
      ]
    },
    {
      "cell_type": "markdown",
      "metadata": {
        "colab_type": "text",
        "id": "vfrFQACEnc6i"
      },
      "source": [
        "### Compiling the CNN"
      ]
    },
    {
      "cell_type": "code",
      "execution_count": 45,
      "metadata": {},
      "outputs": [],
      "source": [
        "# the best optimizers are the ones that can perform gradient descent\n",
        "# stochastic gradient descent: it updates the weights to reduce the loss error between predictions and results\n",
        "\n",
        "# non-binary loss function--> loss= 'categorical_crossentropy'\n",
        "cnn.compile(optimizer= 'adam', loss= 'binary_crossentropy', metrics= ['accuracy'])"
      ]
    },
    {
      "cell_type": "markdown",
      "metadata": {
        "colab_type": "text",
        "id": "ehS-v3MIpX2h"
      },
      "source": [
        "### Training the CNN on the Training set and evaluating it on the Test set"
      ]
    },
    {
      "cell_type": "code",
      "execution_count": null,
      "metadata": {},
      "outputs": [],
      "source": [
        "# fit method --> will train the cnn on the training set\n",
        "# x: data with which we train our model\n",
        "# validation_data: evaluating it on the Test set\n",
        "# epochs: training so that it converges, in this case minimum 25 \n",
        "\n",
        "cnn.fit(x = training_set, validation_data=test_set, epochs=25)\n",
        "\n",
        "# After 25 epochs:\n",
        "# 1st accuracy: training_set --> 89%\n",
        "# 2nd accuracy: test_set --> 80%\n",
        "\n",
        "# if we hadn't done the image augmentation preprocessing in part 1\n",
        "# we would have ended up with:\n",
        "# 1st accuracy: training_set --> 99% --> overfitting\n",
        "# 2nd accuracy: test_set --> 69%"
      ]
    },
    {
      "cell_type": "markdown",
      "metadata": {
        "colab_type": "text",
        "id": "U3PZasO0006Z"
      },
      "source": [
        "## Part 4 - Making a single prediction"
      ]
    },
    {
      "cell_type": "code",
      "execution_count": null,
      "metadata": {},
      "outputs": [
        {
          "data": {
            "text/plain": [
              "{'cats': 0, 'dogs': 1}"
            ]
          },
          "execution_count": 28,
          "metadata": {},
          "output_type": "execute_result"
        }
      ],
      "source": [
        "# 1 Dog | 0 Cat\n",
        "training_set.class_indices"
      ]
    },
    {
      "cell_type": "code",
      "execution_count": 47,
      "metadata": {},
      "outputs": [
        {
          "name": "stdout",
          "output_type": "stream",
          "text": [
            "1/1 [==============================] - 0s 60ms/step\n",
            "cat_or_dog_1.jpg -->  dog\n",
            "1/1 [==============================] - 0s 22ms/step\n",
            "cat_or_dog_2.jpg -->  dog\n",
            "1/1 [==============================] - 0s 21ms/step\n",
            "cat_or_dog_3.jpg -->  dog\n",
            "1/1 [==============================] - 0s 19ms/step\n",
            "cat_or_dog_4.jpg -->  dog\n",
            "1/1 [==============================] - 0s 20ms/step\n",
            "cat_or_dog_5.jpg -->  dog\n",
            "1/1 [==============================] - 0s 23ms/step\n",
            "cat_or_dog_6.jpg -->  dog\n",
            "1/1 [==============================] - 0s 21ms/step\n",
            "cat_or_dog_7.jpg -->  dog\n"
          ]
        }
      ],
      "source": [
        "import numpy as np\n",
        "from keras.preprocessing import image\n",
        "\n",
        "# [1,3]: dogs\n",
        "# [4,6]: cats\n",
        "# [7]: selfie\n",
        "\n",
        "for i in range(1, 8):\n",
        "    path_single_prediction = 'dataset/single_prediction/cat_or_dog_' +str(i) +'.jpg'\n",
        "    test_image = image.load_img(path_single_prediction, target_size=(64,64))\n",
        "\n",
        "    # remember when the input needed [[]], here is the same by converting it to a numpy array\n",
        "    test_image = image.img_to_array(test_image)\n",
        "\n",
        "    # The predict method has to be called into the exact same format that was used during the training\n",
        "    # During the preprocessing we were training the CNN with batches of 32 images,\n",
        "    # so this single image has to be fed as a batch\n",
        "    # axis: the dimension of the batch is always the 1st dimension you give first the dimension and\n",
        "    # then inside each batch you get the different images\n",
        "    test_image = np.expand_dims(test_image, axis=0)\n",
        "\n",
        "    result = cnn.predict(test_image)\n",
        "\n",
        "    # {'cats': 0, 'dogs': 1}\n",
        "    # training_set.class_indices\n",
        "\n",
        "    # we access the 1st element in the batch result:\n",
        "    if result[0][0] == 1:\n",
        "        prediction = 'dog'\n",
        "    else:\n",
        "        prediction = 'cat'\n",
        "\n",
        "    print('cat_or_dog_' +str(i) +'.jpg --> ', prediction)"
      ]
    }
  ],
  "metadata": {
    "colab": {
      "collapsed_sections": [],
      "name": "convolutional_neural_network.ipynb",
      "provenance": [],
      "toc_visible": true
    },
    "kernelspec": {
      "display_name": "Python 3",
      "name": "python3"
    },
    "language_info": {
      "codemirror_mode": {
        "name": "ipython",
        "version": 3
      },
      "file_extension": ".py",
      "mimetype": "text/x-python",
      "name": "python",
      "nbconvert_exporter": "python",
      "pygments_lexer": "ipython3",
      "version": "3.10.5"
    }
  },
  "nbformat": 4,
  "nbformat_minor": 0
}
