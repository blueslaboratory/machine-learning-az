{
  "cells": [
    {
      "cell_type": "markdown",
      "metadata": {
        "colab_type": "text",
        "id": "3cbb7fRy-eyr"
      },
      "source": [
        "# Artificial Neural Network"
      ]
    },
    {
      "cell_type": "markdown",
      "metadata": {
        "colab_type": "text",
        "id": "8sNDnxE2-pwE"
      },
      "source": [
        "### Importing the libraries"
      ]
    },
    {
      "cell_type": "code",
      "execution_count": 34,
      "metadata": {
        "colab": {},
        "colab_type": "code",
        "id": "lxChR1Rk-umf"
      },
      "outputs": [],
      "source": [
        "# 10/01/2024\n",
        "# IDE: VSC\n",
        "# EXTRA (BONUS): Artificial Neural Networks for Regression\n",
        "# 345. EXTRA CONTENT: ANN Case Study\n",
        "\n",
        "# pip install tensorflow==2.14.0\n",
        "\n",
        "\n",
        "import numpy as np\n",
        "import pandas as pd\n",
        "import tensorflow as tf"
      ]
    },
    {
      "cell_type": "code",
      "execution_count": 35,
      "metadata": {
        "colab": {
          "base_uri": "https://localhost:8080/",
          "height": 34
        },
        "colab_type": "code",
        "id": "uBTqR3nacj0e",
        "outputId": "4c0bd183-e424-429a-9fba-ceb841c06888"
      },
      "outputs": [
        {
          "data": {
            "text/plain": [
              "'2.14.0'"
            ]
          },
          "execution_count": 35,
          "metadata": {},
          "output_type": "execute_result"
        }
      ],
      "source": [
        "tf.__version__"
      ]
    },
    {
      "cell_type": "markdown",
      "metadata": {
        "colab_type": "text",
        "id": "AG3FQEch-yuA"
      },
      "source": [
        "## Part 1 - Data Preprocessing"
      ]
    },
    {
      "cell_type": "markdown",
      "metadata": {
        "colab_type": "text",
        "id": "-4zq8Mza_D9O"
      },
      "source": [
        "### Importing the dataset"
      ]
    },
    {
      "cell_type": "code",
      "execution_count": 36,
      "metadata": {
        "colab": {},
        "colab_type": "code",
        "id": "B9CV13Co_HHM"
      },
      "outputs": [],
      "source": [
        "dataset = pd.read_excel('Folds5x2_pp.xlsx')\n",
        "\n",
        "\n",
        "# Features (X) consist of hourly average ambient variables:\n",
        "# Temperature (AT)\n",
        "# Exhaust Vacuum (V)\n",
        "# Ambient Pressure (AP)\n",
        "# Relative Humidity (RH) \n",
        "X = dataset.iloc[:, :-1].values\n",
        "\n",
        "# Predict (y) the net hourly electrical energy output (PE) of the plant:\n",
        "y = dataset.iloc[:, -1].values"
      ]
    },
    {
      "cell_type": "code",
      "execution_count": 47,
      "metadata": {},
      "outputs": [
        {
          "name": "stdout",
          "output_type": "stream",
          "text": [
            "[[  14.96   41.76 1024.07   73.17]\n",
            " [  25.18   62.96 1020.04   59.08]\n",
            " [   5.11   39.4  1012.16   92.14]\n",
            " ...\n",
            " [  31.32   74.33 1012.92   36.48]\n",
            " [  24.48   69.45 1013.86   62.39]\n",
            " [  21.6    62.52 1017.23   67.87]]\n"
          ]
        }
      ],
      "source": [
        "print(X)"
      ]
    },
    {
      "cell_type": "code",
      "execution_count": 48,
      "metadata": {},
      "outputs": [
        {
          "name": "stdout",
          "output_type": "stream",
          "text": [
            "[463.26 444.37 488.56 ... 429.57 435.74 453.28]\n"
          ]
        }
      ],
      "source": [
        "print(y)"
      ]
    },
    {
      "cell_type": "markdown",
      "metadata": {
        "colab_type": "text",
        "id": "VC6omXel_Up0"
      },
      "source": [
        "### Splitting the dataset into the Training set and Test set"
      ]
    },
    {
      "cell_type": "code",
      "execution_count": 37,
      "metadata": {
        "colab": {},
        "colab_type": "code",
        "id": "L5edeb2r_agx"
      },
      "outputs": [],
      "source": [
        "# Origin: data_preprocessing_tools\n",
        "\n",
        "from sklearn.model_selection import train_test_split\n",
        "\n",
        "# test_size: recommended size of the split\n",
        "# --> 80% observation on the training set \n",
        "# --> 20% in the test set\n",
        "# random_state: fixing the seed so that we get the same split\n",
        "X_train, X_test, y_train, y_test = train_test_split(X, y, test_size = 0.2, random_state = 0)"
      ]
    },
    {
      "cell_type": "markdown",
      "metadata": {
        "colab_type": "text",
        "id": "_mSLlAT9_eyI"
      },
      "source": [
        "## Part 2 - Building the ANN"
      ]
    },
    {
      "cell_type": "markdown",
      "metadata": {
        "colab_type": "text",
        "id": "CsBULd_f_wLY"
      },
      "source": [
        "### Initializing the ANN"
      ]
    },
    {
      "cell_type": "code",
      "execution_count": 38,
      "metadata": {
        "colab": {},
        "colab_type": "code",
        "id": "J6Hd97Ls__Nz"
      },
      "outputs": [],
      "source": [
        "# ANN (Artificial Neural Network)\n",
        "ann = tf.keras.models.Sequential()"
      ]
    },
    {
      "cell_type": "markdown",
      "metadata": {
        "colab_type": "text",
        "id": "iitAFJS_ABUn"
      },
      "source": [
        "### Adding the input layer and the first hidden layer"
      ]
    },
    {
      "cell_type": "code",
      "execution_count": 39,
      "metadata": {
        "colab": {},
        "colab_type": "code",
        "id": "ksO_Vv40AHix"
      },
      "outputs": [],
      "source": [
        "# units=6 --> 6 neurons (Hyperparameter)\n",
        "# activation='relu' --> re_ctifier l_inear u_nit --> rectifier activation function\n",
        "\n",
        "# activation function:\n",
        "# sigmoid: yes or no, 0 or 1\n",
        "# softmax: classification with >2 categories or classes to predict\n",
        "# no activation function: regression, continuous real number\n",
        "\n",
        "ann.add(tf.keras.layers.Dense(units=6, activation='relu'))"
      ]
    },
    {
      "cell_type": "markdown",
      "metadata": {
        "colab_type": "text",
        "id": "-lb4kK_wAKbs"
      },
      "source": [
        "### Adding the second hidden layer"
      ]
    },
    {
      "cell_type": "code",
      "execution_count": 40,
      "metadata": {
        "colab": {},
        "colab_type": "code",
        "id": "c2357OqEAQOQ"
      },
      "outputs": [],
      "source": [
        "ann.add(tf.keras.layers.Dense(units=6, activation='relu'))"
      ]
    },
    {
      "cell_type": "markdown",
      "metadata": {
        "colab_type": "text",
        "id": "jwMOmKb3AdBY"
      },
      "source": [
        "### Adding the output layer"
      ]
    },
    {
      "cell_type": "code",
      "execution_count": 41,
      "metadata": {
        "colab": {},
        "colab_type": "code",
        "id": "YFATpzsUAkLL"
      },
      "outputs": [],
      "source": [
        "# units=1 --> only 1 output neuron is needed to encode a binary outcome\n",
        "# no activation function in the output layer\n",
        "ann.add(tf.keras.layers.Dense(units=1))"
      ]
    },
    {
      "cell_type": "markdown",
      "metadata": {
        "colab_type": "text",
        "id": "fq7e4fF6A1yy"
      },
      "source": [
        "## Part 3 - Training the ANN"
      ]
    },
    {
      "cell_type": "markdown",
      "metadata": {
        "colab_type": "text",
        "id": "qDeylAs2An25"
      },
      "source": [
        "### Compiling the ANN"
      ]
    },
    {
      "cell_type": "code",
      "execution_count": 42,
      "metadata": {
        "colab": {},
        "colab_type": "code",
        "id": "pesgbWlCAtB4"
      },
      "outputs": [],
      "source": [
        "# the best optimizers are the ones that can perform gradient descent\n",
        "# stochastic gradient descent: it updates the weights to reduce the loss error between predictions and results\n",
        "\n",
        "# non-binary loss function--> loss= 'categorical_crossentropy'\n",
        "ann.compile(optimizer = 'adam', loss = 'mean_squared_error')"
      ]
    },
    {
      "cell_type": "markdown",
      "metadata": {
        "colab_type": "text",
        "id": "YjVuiybYOo7r"
      },
      "source": [
        "### Training the ANN model on the Training set"
      ]
    },
    {
      "cell_type": "code",
      "execution_count": 43,
      "metadata": {
        "colab": {
          "base_uri": "https://localhost:8080/",
          "height": 1000
        },
        "colab_type": "code",
        "id": "c_vV-tiiA5zn",
        "outputId": "4a2b6ee6-ed75-4698-9069-b250e613803f"
      },
      "outputs": [
        {
          "name": "stdout",
          "output_type": "stream",
          "text": [
            "Epoch 1/50\n"
          ]
        },
        {
          "name": "stdout",
          "output_type": "stream",
          "text": [
            "240/240 [==============================] - 1s 1ms/step - loss: 207568.4844\n",
            "Epoch 2/50\n",
            "240/240 [==============================] - 0s 1ms/step - loss: 4188.6855\n",
            "Epoch 3/50\n",
            "240/240 [==============================] - 0s 1ms/step - loss: 166.5903\n",
            "Epoch 4/50\n",
            "240/240 [==============================] - 0s 1ms/step - loss: 164.5221\n",
            "Epoch 5/50\n",
            "240/240 [==============================] - 0s 1ms/step - loss: 162.5028\n",
            "Epoch 6/50\n",
            "240/240 [==============================] - 0s 1ms/step - loss: 160.1256\n",
            "Epoch 7/50\n",
            "240/240 [==============================] - 0s 1ms/step - loss: 157.2835\n",
            "Epoch 8/50\n",
            "240/240 [==============================] - 0s 1ms/step - loss: 154.1474\n",
            "Epoch 9/50\n",
            "240/240 [==============================] - 0s 1ms/step - loss: 150.5482\n",
            "Epoch 10/50\n",
            "240/240 [==============================] - 0s 1ms/step - loss: 146.7991\n",
            "Epoch 11/50\n",
            "240/240 [==============================] - 0s 1ms/step - loss: 142.2731\n",
            "Epoch 12/50\n",
            "240/240 [==============================] - 0s 1ms/step - loss: 137.5066\n",
            "Epoch 13/50\n",
            "240/240 [==============================] - 0s 1ms/step - loss: 132.1479\n",
            "Epoch 14/50\n",
            "240/240 [==============================] - 0s 1ms/step - loss: 126.7558\n",
            "Epoch 15/50\n",
            "240/240 [==============================] - 0s 1ms/step - loss: 120.5285\n",
            "Epoch 16/50\n",
            "240/240 [==============================] - 0s 1ms/step - loss: 114.0354\n",
            "Epoch 17/50\n",
            "240/240 [==============================] - 0s 1ms/step - loss: 107.4388\n",
            "Epoch 18/50\n",
            "240/240 [==============================] - 0s 1ms/step - loss: 100.4466\n",
            "Epoch 19/50\n",
            "240/240 [==============================] - 0s 1ms/step - loss: 93.2093\n",
            "Epoch 20/50\n",
            "240/240 [==============================] - 0s 1ms/step - loss: 86.0878\n",
            "Epoch 21/50\n",
            "240/240 [==============================] - 0s 1ms/step - loss: 78.9764\n",
            "Epoch 22/50\n",
            "240/240 [==============================] - 0s 1ms/step - loss: 71.7928\n",
            "Epoch 23/50\n",
            "240/240 [==============================] - 0s 1ms/step - loss: 65.0415\n",
            "Epoch 24/50\n",
            "240/240 [==============================] - 0s 1ms/step - loss: 58.7201\n",
            "Epoch 25/50\n",
            "240/240 [==============================] - 0s 1ms/step - loss: 53.0173\n",
            "Epoch 26/50\n",
            "240/240 [==============================] - 0s 1ms/step - loss: 48.1212\n",
            "Epoch 27/50\n",
            "240/240 [==============================] - 0s 1ms/step - loss: 43.6315\n",
            "Epoch 28/50\n",
            "240/240 [==============================] - 0s 1ms/step - loss: 40.3206\n",
            "Epoch 29/50\n",
            "240/240 [==============================] - 0s 1ms/step - loss: 37.6710\n",
            "Epoch 30/50\n",
            "240/240 [==============================] - 0s 1ms/step - loss: 35.5457\n",
            "Epoch 31/50\n",
            "240/240 [==============================] - 0s 1ms/step - loss: 34.0413\n",
            "Epoch 32/50\n",
            "240/240 [==============================] - 0s 1ms/step - loss: 33.2236\n",
            "Epoch 33/50\n",
            "240/240 [==============================] - 0s 1ms/step - loss: 32.3270\n",
            "Epoch 34/50\n",
            "240/240 [==============================] - 0s 1ms/step - loss: 32.0812\n",
            "Epoch 35/50\n",
            "240/240 [==============================] - 0s 1ms/step - loss: 31.9325\n",
            "Epoch 36/50\n",
            "240/240 [==============================] - 0s 1ms/step - loss: 31.3828\n",
            "Epoch 37/50\n",
            "240/240 [==============================] - 0s 1ms/step - loss: 31.4471\n",
            "Epoch 38/50\n",
            "240/240 [==============================] - 0s 1ms/step - loss: 30.7908\n",
            "Epoch 39/50\n",
            "240/240 [==============================] - 0s 1ms/step - loss: 31.0830\n",
            "Epoch 40/50\n",
            "240/240 [==============================] - 0s 1ms/step - loss: 30.8897\n",
            "Epoch 41/50\n",
            "240/240 [==============================] - 0s 1ms/step - loss: 30.4330\n",
            "Epoch 42/50\n",
            "240/240 [==============================] - 0s 1ms/step - loss: 30.1670\n",
            "Epoch 43/50\n",
            "240/240 [==============================] - 0s 1ms/step - loss: 30.0109\n",
            "Epoch 44/50\n",
            "240/240 [==============================] - 0s 1ms/step - loss: 30.4323\n",
            "Epoch 45/50\n",
            "240/240 [==============================] - 0s 1ms/step - loss: 29.7766\n",
            "Epoch 46/50\n",
            "240/240 [==============================] - 0s 1ms/step - loss: 30.2074\n",
            "Epoch 47/50\n",
            "240/240 [==============================] - 0s 1ms/step - loss: 29.1736\n",
            "Epoch 48/50\n",
            "240/240 [==============================] - 0s 1ms/step - loss: 28.8465\n",
            "Epoch 49/50\n",
            "240/240 [==============================] - 0s 1ms/step - loss: 28.8992\n",
            "Epoch 50/50\n",
            "240/240 [==============================] - 0s 1ms/step - loss: 29.3443\n"
          ]
        },
        {
          "data": {
            "text/plain": [
              "<keras.src.callbacks.History at 0x24cff78d390>"
            ]
          },
          "execution_count": 43,
          "metadata": {},
          "output_type": "execute_result"
        }
      ],
      "source": [
        "# batch_size --> we do the comparison of trainning vs test in batches instead of 1vs1\n",
        "ann.fit(X_train, y_train, batch_size = 32, epochs = 50)"
      ]
    },
    {
      "cell_type": "markdown",
      "metadata": {
        "colab_type": "text",
        "id": "0H0zKKNEBLD5"
      },
      "source": [
        "### Predicting the results of the Test set"
      ]
    },
    {
      "cell_type": "code",
      "execution_count": 44,
      "metadata": {
        "colab": {
          "base_uri": "https://localhost:8080/",
          "height": 134
        },
        "colab_type": "code",
        "id": "IA0yApEmBG1X",
        "outputId": "cb981e1f-9204-4a2a-fece-9d66a6919189"
      },
      "outputs": [
        {
          "name": "stdout",
          "output_type": "stream",
          "text": [
            "60/60 [==============================] - 0s 886us/step\n",
            "[[428.4  431.23]\n",
            " [461.51 460.01]\n",
            " [466.1  461.14]\n",
            " ...\n",
            " [471.26 473.26]\n",
            " [441.71 438.  ]\n",
            " [459.41 463.28]]\n"
          ]
        }
      ],
      "source": [
        "y_pred = ann.predict(X_test)\n",
        "# precision = 2 --> 2 decimals\n",
        "np.set_printoptions(precision=2)\n",
        "\n",
        "# reshape(len(y_pred),1) --> display vertically\n",
        "# axis can take 2 values (0, 1)\n",
        "# --> 0: horizontal concatenation\n",
        "# --> 1: vertical concatenation\n",
        "\n",
        "# print(np.concatenate((y_pred, y_test), 0))\n",
        "print(np.concatenate((y_pred.reshape(len(y_pred),1), y_test.reshape(len(y_test),1)), 1))\n",
        "\n",
        "# Left column (prediction) | Right column (test)"
      ]
    },
    {
      "cell_type": "markdown",
      "metadata": {},
      "source": [
        "### Making the Confusion Matrix"
      ]
    },
    {
      "cell_type": "code",
      "execution_count": null,
      "metadata": {},
      "outputs": [],
      "source": [
        "# you can't make the confusion matrix for continuous values"
      ]
    }
  ],
  "metadata": {
    "colab": {
      "collapsed_sections": [],
      "name": "Artificial Neural Network",
      "provenance": [],
      "toc_visible": true
    },
    "kernelspec": {
      "display_name": "Python 3",
      "name": "python3"
    },
    "language_info": {
      "codemirror_mode": {
        "name": "ipython",
        "version": 3
      },
      "file_extension": ".py",
      "mimetype": "text/x-python",
      "name": "python",
      "nbconvert_exporter": "python",
      "pygments_lexer": "ipython3",
      "version": "3.10.5"
    }
  },
  "nbformat": 4,
  "nbformat_minor": 0
}
